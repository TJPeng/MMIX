{
 "cells": [
  {
   "cell_type": "code",
   "execution_count": 1,
   "metadata": {},
   "outputs": [],
   "source": [
    "%load_ext rpy2.ipython"
   ]
  },
  {
   "cell_type": "code",
   "execution_count": 2,
   "metadata": {},
   "outputs": [
    {
     "name": "stderr",
     "output_type": "stream",
     "text": [
      "/Users/faruqia/anaconda3/envs/ppm-r-env/lib/python3.6/site-packages/rpy2/rinterface/__init__.py:145: RRuntimeWarning: Loading required package: ggplot2\n",
      "\n",
      "  warnings.warn(x, RRuntimeWarning)\n",
      "/Users/faruqia/anaconda3/envs/ppm-r-env/lib/python3.6/site-packages/rpy2/rinterface/__init__.py:145: RRuntimeWarning: Loading required package: tidyr\n",
      "\n",
      "  warnings.warn(x, RRuntimeWarning)\n",
      "/Users/faruqia/anaconda3/envs/ppm-r-env/lib/python3.6/site-packages/rpy2/rinterface/__init__.py:145: RRuntimeWarning: Loading required package: minpack.lm\n",
      "\n",
      "  warnings.warn(x, RRuntimeWarning)\n"
     ]
    },
    {
     "data": {
      "text/plain": [
       "array([1], dtype=int32)"
      ]
     },
     "execution_count": 2,
     "metadata": {},
     "output_type": "execute_result"
    }
   ],
   "source": [
    "%R require(ggplot2); require(tidyr); require(minpack.lm)"
   ]
  },
  {
   "cell_type": "code",
   "execution_count": 3,
   "metadata": {},
   "outputs": [
    {
     "name": "stderr",
     "output_type": "stream",
     "text": [
      "/Users/faruqia/anaconda3/envs/ppm-r-env/lib/python3.6/site-packages/sklearn/cross_validation.py:41: DeprecationWarning: This module was deprecated in version 0.18 in favor of the model_selection module into which all the refactored classes and functions are moved. Also note that the interface of the new CV iterators are different from that of this module. This module will be removed in 0.20.\n",
      "  \"This module will be removed in 0.20.\", DeprecationWarning)\n"
     ]
    }
   ],
   "source": [
    "import itertools\n",
    "import numpy as np\n",
    "import pandas as pd\n",
    "from scipy import special, optimize\n",
    "from joblib import Parallel, delayed\n",
    "from statsmodels.tsa.seasonal import seasonal_decompose\n",
    "from sklearn.metrics import r2_score\n",
    "from sklearn.cross_validation import train_test_split\n",
    "from sklearn.ensemble import GradientBoostingRegressor, RandomForestRegressor\n",
    "from collections import Counter\n",
    "from datetime import datetime"
   ]
  },
  {
   "cell_type": "markdown",
   "metadata": {},
   "source": [
    "# Define variable (i.e., column) names"
   ]
  },
  {
   "cell_type": "code",
   "execution_count": null,
   "metadata": {},
   "outputs": [],
   "source": [
    "#################### Variables to define ###############\n",
    "\n",
    "SALES_L1 = 'KADCYLA_SALES_SA_L1'\n",
    "CALLS = 'KADCYLA_CALLS'\n",
    "SALES_SA = 'KADCYLA_SALES_SA'\n",
    "SPEAKER_PROG = 'KADCYLA_SP'\n",
    "COPAY = 'KADCYLA_COPAY_COUNT'\n",
    "EMAILS = 'KADCYLA_EMAILS'\n",
    "ALERTS = 'KADCYLA_ALERTS'\n",
    "WEBVISITS = 'KADCYLA_WEB_VISITS'\n",
    "ZIPVAR = 'ZIP3'\n",
    "\n",
    "\n",
    "#################### End of variable list ###############"
   ]
  },
  {
   "cell_type": "markdown",
   "metadata": {},
   "source": [
    "# Reading data and pre-processing"
   ]
  },
  {
   "cell_type": "code",
   "execution_count": 4,
   "metadata": {},
   "outputs": [],
   "source": [
    "zip3_kadcyla_s1 = pd.read_sas('../MMix_Model/Tables/zip3_kadcyla_s1.sas7bdat', format='sas7bdat',\n",
    "                    index=None, iterator=False, encoding = 'latin-1')\n",
    "# Add lag variable for calls\n",
    "zip3_kadcyla_s1['KADCYLA_CALLS_L1'] = zip3_kadcyla_s1[CALLS].shift()\n",
    "zip3_kadcyla_s1['KADCYLA_SP_L1'] = zip3_kadcyla_s1[SPEAKER_PROG].shift()\n",
    "\n",
    "\n",
    "# Fill NAs with zeros\n",
    "zip3_kadcyla_s1 = zip3_kadcyla_s1.fillna(0)\n",
    "zip3_kadcyla_s1[list(zip3_kadcyla_s1.columns[2:])] = zip3_kadcyla_s1[list(zip3_kadcyla_s1.columns[2:])].apply(pd.to_numeric)\n",
    "\n",
    "# Set negative values to zero for sales. DDD data \n",
    "zip3_kadcyla_s1[SALES_SA] = zip3_kadcyla_s1[SALES_SA].clip(lower=0)"
   ]
  },
  {
   "cell_type": "markdown",
   "metadata": {},
   "source": [
    "# Scipy implementation"
   ]
  },
  {
   "cell_type": "code",
   "execution_count": 5,
   "metadata": {},
   "outputs": [
    {
     "name": "stdout",
     "output_type": "stream",
     "text": [
      "0:11:47.359589\n"
     ]
    }
   ],
   "source": [
    "# Check documentation here\n",
    "#https://docs.scipy.org/doc/scipy/reference/generated/scipy.optimize.least_squares.html\n",
    "\n",
    "# NOTE: ADD ARGUMENT BACK IF TESTING DOESN'T WORK\n",
    "def model1(params,x1,x2,x4): #,x3\n",
    "    \"\"\"\n",
    "    params = [b0,b1,b2, r2]  #,r1,\n",
    "    x1, x2, x4 = SALES_SA_L1, CALLS, SALES_SA  #x3 = CALLS_L1,\n",
    "    \"\"\"\n",
    "    return params[0] + params[1] * x1 + params[2] * (1 - np.exp(-params[3] * \n",
    "            x2)) - x4\n",
    "    # NOTE: UNCOMMENT IF TESTING DOESN'T WORK\n",
    "    #return params[0] + params[1] * x1 + (1 - np.exp(-params[3] * \n",
    "    #        x2)) + params[2] * (1 - np.exp(-params[4] * \n",
    "    #        x3)) - x4\n",
    "\n",
    "def model2(params,x1,x2,x3):\n",
    "    \"\"\"\n",
    "    params = [b3,r3,b4,r4]\n",
    "    x1, x2, x3 = SP, COPAY_COUNT, residual_a\n",
    "    \"\"\"\n",
    "    return  params[0] * (1 - np.exp(-params[1] * x1)) + params[2] * (1 - np.exp(-params[3] * \n",
    "    x2)) - x3\n",
    "\n",
    "\n",
    "def model3(params,x1,x2,x3,x4):\n",
    "    \"\"\"\n",
    "    params = [b5,r5,b6,r6,b7,r7]\n",
    "    x1,x2,x3,x4 = EMAILS, ALERTS, WEB_VISITS, residual_b\n",
    "    \"\"\"\n",
    "    return params[0] * (1 - np.exp(-params[1] * x1)) + params[2] * (1 - np.exp(-params[3] * \n",
    "        x2)) + params[4] * (1 - np.exp(-params[5] * \n",
    "        x3)) - x4\n",
    "\n",
    "\n",
    "#NOTE: ADD BACK IF NEEDED\n",
    "#callsl1,\n",
    "def model_optimzer(datainput,zipcode,salesl1,calls,\n",
    "                  salessa,sp,copay,\n",
    "                  emails,alerts,webvisits):\n",
    "    data_sub = datainput[datainput['ZIP3'] == zipcode]\n",
    "    #NOTE: ADD PARAMETER BACK IF TESTING DOESN'T WORK\n",
    "    parameters1 = [0,0,0,0.01] #0.01,\n",
    "    result1 = optimize.least_squares(model1,parameters1,args=(\n",
    "    data_sub[salesl1],\n",
    "    data_sub[calls],\n",
    "    #data_sub[callsl1],\n",
    "    data_sub[salessa]\n",
    "    ))\n",
    "    # result1.x gives the values of the estimated parameters\n",
    "    # Gives the residual of the model1\n",
    "    residual_a = result1.fun\n",
    "    parameters2 = [0,0.01,0,0.01]\n",
    "    result2 = optimize.least_squares(model2,parameters2,args=(\n",
    "        data_sub[sp],\n",
    "        data_sub[copay],\n",
    "        residual_a\n",
    "    ))\n",
    "    residual_b = result2.fun\n",
    "    parameters3 = [0,0.01,0,0.01,0,0.01]\n",
    "    result3 = optimize.least_squares(model3,parameters3,args=(\n",
    "        data_sub[emails],\n",
    "        data_sub[alerts],\n",
    "        data_sub[webvisits],\n",
    "        residual_b\n",
    "    ))\n",
    "    output_dict = dict()\n",
    "    output_dict[zipcode] = [result1,result2,result3]\n",
    "    return output_dict\n",
    "\n",
    "\n",
    "\n",
    "# Start datetime\n",
    "startTime = datetime.now()\n",
    "\n",
    "unique_zips = list(zip3_kadcyla_s1[ZIPVAR].unique())\n",
    "\n",
    "    \n",
    "# Running the model\n",
    "#https://zacharyst.com/2016/03/31/parallelize-a-multifunction-argument-in-python/\n",
    "results =  Parallel(n_jobs=4)(delayed(model_optimzer)(datainput=zip3_kadcyla_s1,zipcode=zipc,\n",
    "            salesl1=SALES_L1,\n",
    "calls=CALLS,salessa=SALES_SA,\n",
    "sp=SPEAKER_PROG,copay=COPAY,emails=EMAILS,\n",
    "alerts=ALERTS,webvisits=WEBVISITS) for zipc in unique_zips)\n",
    "#NOTE: ADD BACK IF NEEDED\n",
    "#callsl1='KADCYLA_CALLS_L1'\n",
    "\n",
    "\n",
    "print (str(datetime.now()-startTime))\n",
    "\n",
    "\n",
    "\n",
    "# Without joblib\n",
    "#0:29:22.997824\n",
    "\n",
    "#With joblib\n",
    "#0:15:00.261307"
   ]
  },
  {
   "cell_type": "code",
   "execution_count": 6,
   "metadata": {},
   "outputs": [],
   "source": [
    "zip_counts = dict(Counter(zip3_kadcyla_s1['ZIP3']))\n",
    "\n",
    "b0_df = [] \n",
    "b1_df = []\n",
    "b2_df = []\n",
    "# NOTE: UNCOMMENT r1_df AFTER TESTING\n",
    "#r1_df = []\n",
    "r2_df = []\n",
    "b3_df = []\n",
    "r3_df = []\n",
    "b4_df = []\n",
    "r4_df = []\n",
    "b5_df = []\n",
    "r5_df = []\n",
    "b6_df = []\n",
    "r6_df = []\n",
    "b7_df = []\n",
    "r7_df = []\n",
    "res_a_df = []\n",
    "res_b_df = []\n",
    "res_c_df = []\n",
    "zipcodes_df = []\n",
    "\n",
    "\n",
    "\n",
    "for m in results:\n",
    "    zipkey = list(m.keys())[0]\n",
    "    counter = zip_counts[zipkey]\n",
    "    # All parameters\n",
    "    b0 = m[zipkey][0].x[0]\n",
    "    b1 = m[zipkey][0].x[1]\n",
    "    b2 = m[zipkey][0].x[2]\n",
    "    # NOTE: COMMENT THIS OUT AFTER TESTING\n",
    "    r2 = m[zipkey][0].x[3]\n",
    "    #NOTE: UNCOMMENT THEM, IF TESTING ABOVE DOESN'T WORK\n",
    "    #r1 = m[zipkey][0].x[3]\n",
    "    #r2 = m[zipkey][0].x[4]\n",
    "    b3 = m[zipkey][1].x[0]\n",
    "    r3 = m[zipkey][1].x[1]\n",
    "    b4 = m[zipkey][1].x[2]\n",
    "    r4 = m[zipkey][1].x[3]\n",
    "    b5 = m[zipkey][2].x[0]\n",
    "    r5 = m[zipkey][2].x[1]\n",
    "    b6 = m[zipkey][2].x[2]\n",
    "    r6 = m[zipkey][2].x[3]\n",
    "    b7 = m[zipkey][2].x[4]\n",
    "    r7 = m[zipkey][2].x[5]\n",
    "    res_a = m[zipkey][0].fun\n",
    "    res_b = m[zipkey][1].fun\n",
    "    res_c = m[zipkey][2].fun\n",
    "    \n",
    "    b0_df.append([b0]*counter)\n",
    "    b1_df.append([b1]*counter)\n",
    "    b2_df.append([b2]*counter)\n",
    "    #NOTE: UNCOMMENT r1_df AFTER TESTING\n",
    "    #r1_df.append([r1]*counter)\n",
    "    r2_df.append([r2]*counter)\n",
    "    b3_df.append([b3]*counter)\n",
    "    r3_df.append([r3]*counter)\n",
    "    b4_df.append([b4]*counter)\n",
    "    r4_df.append([r4]*counter)\n",
    "    b5_df.append([b5]*counter)\n",
    "    r5_df.append([r5]*counter)\n",
    "    b6_df.append([b6]*counter)\n",
    "    r6_df.append([r6]*counter)\n",
    "    b7_df.append([b7]*counter)\n",
    "    r7_df.append([r7]*counter)\n",
    "    res_a_df.append(res_a)\n",
    "    res_b_df.append(res_b)\n",
    "    res_c_df.append(res_c)\n",
    "    zipcodes_df.append([zipkey]*counter)\n",
    "    \n",
    "\n",
    "b0_df = list(itertools.chain.from_iterable(b0_df))\n",
    "#print (b0_df)\n",
    "b1_df = list(itertools.chain.from_iterable(b1_df))\n",
    "b2_df = list(itertools.chain.from_iterable(b2_df))\n",
    "# NOTE: UNCOMMENT r1_df table\n",
    "#r1_df = list(itertools.chain.from_iterable(r1_df))\n",
    "r2_df = list(itertools.chain.from_iterable(r2_df))\n",
    "b3_df = list(itertools.chain.from_iterable(b3_df))\n",
    "r3_df = list(itertools.chain.from_iterable(r3_df))\n",
    "b4_df = list(itertools.chain.from_iterable(b4_df))\n",
    "r4_df = list(itertools.chain.from_iterable(r4_df))\n",
    "b5_df = list(itertools.chain.from_iterable(b5_df))\n",
    "r5_df = list(itertools.chain.from_iterable(r5_df))\n",
    "b6_df = list(itertools.chain.from_iterable(b6_df))\n",
    "r6_df = list(itertools.chain.from_iterable(r6_df))\n",
    "b7_df = list(itertools.chain.from_iterable(b7_df))\n",
    "r7_df = list(itertools.chain.from_iterable(r7_df))\n",
    "res_a_df = list(itertools.chain.from_iterable(res_a_df))\n",
    "res_b_df = list(itertools.chain.from_iterable(res_b_df))\n",
    "res_c_df = list(itertools.chain.from_iterable(res_c_df))\n",
    "zipcodes_df =  list(itertools.chain.from_iterable(zipcodes_df))"
   ]
  },
  {
   "cell_type": "code",
   "execution_count": 7,
   "metadata": {},
   "outputs": [],
   "source": [
    "# Create dataframe of all \n",
    "#NOTE: UNCOMMENT 'r1':r1_df AFTER TESTING\n",
    "all_outputs_df = pd.DataFrame({'b0':b0_df,'b1':b1_df,'b2':b2_df,#'r1':r1_df,\n",
    "                              'r2':r2_df,'b3':b3_df,'r3':r3_df,'b4':b4_df,\n",
    "                              'r4':r4_df,'b5':b5_df,'r5':r5_df,'b6':b6_df,\n",
    "                              'r6':r6_df,'b7':b7_df,'r7':r7_df,'res_a':res_a_df,\n",
    "                              'res_b':res_b_df,'res_c':res_c_df,'zip3':zipcodes_df})"
   ]
  },
  {
   "cell_type": "code",
   "execution_count": 8,
   "metadata": {},
   "outputs": [],
   "source": [
    "# Merge dataframes\n",
    "final_merged_df = pd.concat([zip3_kadcyla_s1, all_outputs_df], axis=1, join_axes=[zip3_kadcyla_s1.index])\n"
   ]
  },
  {
   "cell_type": "code",
   "execution_count": 10,
   "metadata": {},
   "outputs": [],
   "source": [
    "#data model_fits;\n",
    "#\tset DOC.ZIP3_KADCYLA_S3_FINAL;\n",
    "#\tABS_R = abs(C_R);\n",
    "#\tSQ_C_R = C_R**2;\n",
    "#\tif C_R ne 0 OR KADCYLA_SALES_SA ne 0;\n",
    "#run; \n",
    "\n",
    "final_merged_df['abs_r'] = abs(final_merged_df['res_c'])\n",
    "final_merged_df['sq_c_r'] = final_merged_df['res_c']**2\n"
   ]
  },
  {
   "cell_type": "code",
   "execution_count": null,
   "metadata": {},
   "outputs": [],
   "source": [
    "#Proc sql;\n",
    "#create table DOC.ZIP3_KADCYLA_MAPE as \n",
    "#select sum(zip_error)/count(*) as KADCYLA_MAPE from \n",
    "#\t(select SUM(KADCYLA_SALES_SA) as sales,abs(SUM(C_R)/SUM(KADCYLA_SALES_SA)) AS zip_error from model_fits group by zip3)\n",
    "#where sales > 0;\n",
    "\n",
    "zip_mape = final_merged_df.groupby(['ZIP3'])[[SALES_SA,\"res_c\"]].sum()\n",
    "zip_mape = zip_mape[zip_mape[SALES_SA] > 0]\n",
    "mape = sum(list(abs(zip_mape[\"res_c\"]/zip_mape[SALES_SA])))/zip_mape.shape[0]\n",
    "mape\n",
    "\n",
    "#SAS MAPE: 0.069644298\n",
    "#Python MAPE: 208.6133551801872"
   ]
  },
  {
   "cell_type": "code",
   "execution_count": 12,
   "metadata": {},
   "outputs": [
    {
     "data": {
      "text/plain": [
       "0.17107704682579242"
      ]
     },
     "execution_count": 12,
     "metadata": {},
     "output_type": "execute_result"
    }
   ],
   "source": [
    "#Proc sql;\n",
    "#create table DOC.ZIP3_KADCYLA_R_SQ as \n",
    "#select \n",
    "#SUM(ABS_R)/SUM(KADCYLA_SALES_SA) AS KADCYLA_FORECAST_ERROR,\n",
    "#(1-SUM(SQ_C_R)/(VAR(KADCYLA_SALES_SA)*COUNT(*))) AS KADCYLA_R_SQ\n",
    "#from model_fits;\n",
    "\n",
    "forecast_error = sum(final_merged_df['abs_r'])/sum(final_merged_df[SALES_SA])\n",
    "forecast_error\n",
    "\n",
    "#Forecast error (SAS): 0.223187843\n",
    "#Forecast error (Python): 0.171"
   ]
  },
  {
   "cell_type": "code",
   "execution_count": 16,
   "metadata": {},
   "outputs": [
    {
     "data": {
      "text/plain": [
       "0        2.850820\n",
       "1        2.988545\n",
       "2        3.065832\n",
       "3        3.133543\n",
       "4        3.159168\n",
       "5        2.988545\n",
       "6        3.161582\n",
       "7        0.000000\n",
       "8        1.388736\n",
       "9        0.000000\n",
       "10       0.061828\n",
       "11       0.106065\n",
       "12       0.035063\n",
       "13       0.112125\n",
       "14       0.081182\n",
       "15       0.061828\n",
       "16       0.055241\n",
       "17       0.007159\n",
       "18       0.000000\n",
       "19       0.000000\n",
       "20       0.000000\n",
       "21       0.000000\n",
       "22       0.000000\n",
       "23       0.000000\n",
       "24       0.000000\n",
       "25       0.000000\n",
       "26       0.000000\n",
       "27       8.241798\n",
       "28      16.115567\n",
       "29      15.483041\n",
       "          ...    \n",
       "7287    -0.207141\n",
       "7288    -0.000000\n",
       "7289    -0.000000\n",
       "7290     0.000000\n",
       "7291     0.000000\n",
       "7292     0.000000\n",
       "7293     0.000000\n",
       "7294     0.000000\n",
       "7295     0.000000\n",
       "7296     0.000000\n",
       "7297     0.000000\n",
       "7298     0.000000\n",
       "7299     0.000000\n",
       "7300     0.000000\n",
       "7301     0.000000\n",
       "7302     0.000000\n",
       "7303     0.000000\n",
       "7304     0.000000\n",
       "7305     0.000000\n",
       "7306     0.000000\n",
       "7307     0.000000\n",
       "7308     0.000000\n",
       "7309     0.000000\n",
       "7310     0.000000\n",
       "7311     0.000000\n",
       "7312     0.000000\n",
       "7313     0.000000\n",
       "7314     0.000000\n",
       "7315     0.000000\n",
       "7316     0.000000\n",
       "Length: 7317, dtype: float64"
      ]
     },
     "execution_count": 16,
     "metadata": {},
     "output_type": "execute_result"
    }
   ],
   "source": [
    "# Adstock transformations\n",
    "\n",
    "final_merged_df['adstock_calls'] = final_merged_df['b2']* (1 - np.exp(-final_merged_df['r2'] * final_merged_df[CALLS]))\n",
    "final_merged_df['adstock_sp'] = final_merged_df['b3']* (1 - np.exp(-final_merged_df['r3'] * final_merged_df[SPEAKER_PROG]))\n",
    "final_merged_df['adstock_copay'] = final_merged_df['b4']* (1 - np.exp(-final_merged_df['r4'] * final_merged_df[COPAY]))\n",
    "final_merged_df['adstock_emails'] = final_merged_df['b5']* (1 - np.exp(-final_merged_df['r5'] * final_merged_df[EMAILS]))\n",
    "final_merged_df['adstock_alerts'] = final_merged_df['b6']* (1 - np.exp(-final_merged_df['r6'] * final_merged_df[ALERTS]))\n",
    "final_merged_df['adstock_webvisits'] = final_merged_df['b7']* (1 - np.exp(-final_merged_df['r7'] * final_merged_df[WEBVISITS]))\n",
    "\n",
    "\n",
    "\n",
    "#final_merged_df.columns\n",
    "\n",
    "#b0 + b1*SALES_L1\n",
    "#b2 * (1 - np.exp(-r2 * CALLS))\n",
    "#b3 * (1 - np.exp(-r3 * SPEAKER_PROG))\n",
    "#b4 * (1 - np.exp(-r4 * COPAY))\n",
    "#b5 * (1 - np.exp(-r5 * EMAILS))\n",
    "#b6 * (1 - np.exp(-r6 * ALERTS))\n",
    "#b7 * (1 - np.exp(-r7 * WEBVISITS))\n",
    "\n"
   ]
  },
  {
   "cell_type": "code",
   "execution_count": null,
   "metadata": {},
   "outputs": [],
   "source": []
  },
  {
   "cell_type": "code",
   "execution_count": null,
   "metadata": {},
   "outputs": [],
   "source": []
  },
  {
   "cell_type": "markdown",
   "metadata": {},
   "source": [
    "# Comparison with SAS output"
   ]
  },
  {
   "cell_type": "code",
   "execution_count": 53,
   "metadata": {},
   "outputs": [
    {
     "data": {
      "text/plain": [
       "0.0696442975272081"
      ]
     },
     "execution_count": 53,
     "metadata": {},
     "output_type": "execute_result"
    }
   ],
   "source": [
    "sas_output_model_output = pd.read_csv('../sas_output/MODEL_FITS.csv')\n",
    "#sas_output_model_output.columns\n",
    "\n",
    "zip_mape_sas = sas_output_model_output.groupby(['ZIP3'])[[\"KADCYLA_SALES_SA\",\"C_R\"]].sum()\n",
    "zip_mape_sas = zip_mape_sas[zip_mape_sas['KADCYLA_SALES_SA'] > 0]\n",
    "sum(list(abs(zip_mape_sas[\"C_R\"]/zip_mape_sas[\"KADCYLA_SALES_SA\"])))/zip_mape_sas.shape[0]\n",
    "\n",
    "\n",
    "#sas_output = pd.read_csv('../sas_output/ZIP3_KADCYLA_S3_FINAL.csv')\n",
    "\n",
    "#0.069644298\n"
   ]
  },
  {
   "cell_type": "code",
   "execution_count": null,
   "metadata": {},
   "outputs": [],
   "source": []
  },
  {
   "cell_type": "code",
   "execution_count": null,
   "metadata": {},
   "outputs": [],
   "source": []
  },
  {
   "cell_type": "code",
   "execution_count": null,
   "metadata": {},
   "outputs": [],
   "source": []
  },
  {
   "cell_type": "markdown",
   "metadata": {},
   "source": [
    "# Appendix and Development"
   ]
  },
  {
   "cell_type": "markdown",
   "metadata": {},
   "source": [
    "# MMix model (R Implementation)"
   ]
  },
  {
   "cell_type": "code",
   "execution_count": 5,
   "metadata": {},
   "outputs": [
    {
     "name": "stdout",
     "output_type": "stream",
     "text": [
      "\n",
      "Error in nlsModel(formula, mf, start, wts) : \n",
      "  singular gradient matrix at initial parameter estimates\n"
     ]
    },
    {
     "name": "stderr",
     "output_type": "stream",
     "text": [
      "/Users/faruqia/anaconda3/envs/ppm-r-env/lib/python3.6/site-packages/rpy2/rinterface/__init__.py:145: RRuntimeWarning: Error in nlsModel(formula, mf, start, wts) : \n",
      "  singular gradient matrix at initial parameter estimates\n",
      "\n",
      "  warnings.warn(x, RRuntimeWarning)\n"
     ]
    }
   ],
   "source": [
    "%%R -i zip3_kadcyla_s1\n",
    "\n",
    "sales <- \"KADCYLA_SALES_SA\"\n",
    "sales_lag <- \"KADCYLA_SALES_SA_L1\"\n",
    "calls <- \"KADCYLA_CALLS\"\n",
    "calls_lag <- \"KADCYLA_CALLS_L1\"\n",
    "\n",
    "sp <- 'KADCYLA_SP'\n",
    "copay <- 'KADCYLA_COPAY_COUNT' \n",
    "emails <- 'KADCYLA_EMAILS'\n",
    "alerts <- 'KADCYLA_ALERTS'\n",
    "webvisits <- 'KADCYLA_WEB_VISITS'\n",
    "\n",
    "\n",
    "# Formula\n",
    "formula1 <- as.formula(paste0(sales,\" ~ b0 + b1*\",sales_lag,\" + \n",
    "  (1-exp(-r1*\",calls,\")) + b2*(1-exp(-r2*\",calls_lag,\"))\"))\n",
    "\n",
    "formula2 <- as.formula(paste0(\"residual_a ~ b3*(1 - exp(-r3*\",sp,\")) + b4*(1 - exp(-r4*\",copay,\"))\"))\n",
    "\n",
    "formula3 <- as.formula(paste0(\"residual_b ~ b5*(1 - exp(-r5*\",emails,\n",
    "             \")) + b6*(1 - exp(-r6*\",alerts,\")) + b7*(1 - exp(-r7*\",webvisits,\"))\"))\n",
    "\n",
    "\n",
    "#residual_a ~ b3*(1 - exp(-r1*sp)) + b4*(1 - exp(-r1*copay))\n",
    "\n",
    "#SALES[1] = sqrt(M) + b* D*0 + b*(1 - EXP(-R*CALLS[1]))\n",
    "model.1 = nlsLM(formula1,\n",
    "             data = zip3_kadcyla_s1,\n",
    "             algorithm = \"port\", control = nls.lm.control(maxfev = 1000, maxiter = 1000),\n",
    "             start     = c(b0 = 1, b1=1, r1=0.01,r2=0.01,b2 = 0),\n",
    "             lower     = c(b0 = -Inf, b1=-Inf, r1=-Inf,r2=-Inf,b2 = -Inf),\n",
    "             upper     = c(b0 = Inf, b1=Inf, r1=Inf,r2=Inf,b2 = Inf)\n",
    "    )\n",
    "\n",
    "# Prediction from first model\n",
    "residual_a <- zip3_kadcyla_s1[,sales] - predict(model.1)\n",
    "\n",
    "model.2 = nlsLM(formula2,\n",
    "             data = zip3_kadcyla_s1,\n",
    "             algorithm = \"port\", control = nls.lm.control(maxfev = 1000, maxiter = 1000),\n",
    "             start     = c(b3 = 1, b4=1, r3=0.01,r4=0.01),\n",
    "             lower     = c(b3 = -Inf, b4=-Inf, r3=-Inf,r4=-Inf),\n",
    "             upper     = c(b3 = Inf, b4=Inf, r3=Inf,r4=Inf)\n",
    "    )\n",
    "\n",
    "residual_b <- residual_a - predict(model.2)\n",
    "model.3 = nlsLM(formula3,\n",
    "             data = zip3_kadcyla_s1,\n",
    "             algorithm = \"port\", control = nls.lm.control(maxfev = 1000, maxiter = 1000),\n",
    "             start     = c(b5 = 1, b6=1, b7=1, r5=0.01,r6=0.01,r7=0.01),\n",
    "             lower     = c(b5 = -Inf, b6=-Inf, b7=-Inf, r5=-Inf,r6=-Inf,r7=-Inf),\n",
    "             upper     = c(b5 = Inf, b6=Inf, b7=Inf, r5=Inf,r6=Inf,r7=Inf)\n",
    "    )\n",
    "\n",
    "residual_c <- residual_b - predict(model.3)\n",
    "\n",
    "param_ests <- c(summary(model.1)$parameters[,\"Estimate\"],\n",
    "summary(model.2)$parameters[,\"Estimate\"],\n",
    "summary(model.3)$parameters[,\"Estimate\"])\n",
    "\n",
    "#param_ests\n",
    "\n",
    "for (zip in unique(zip3_kadcyla_s1[,\"ZIP3\"])){\n",
    "    datasub <- zip3_kadcyla_s1[zip3_kadcyla_s1[,\"ZIP3\"] == zip,]\n",
    "    model.1.sub = nlsLM(formula1,\n",
    "             data = datasub,\n",
    "             algorithm = \"port\", control = nls.lm.control(maxfev = 1000, maxiter = 1000),\n",
    "             start     = c(b0 = 0, b1=0, r1=0.01,r2=0.01,b2 = 0),\n",
    "             lower     = c(b0 = 0, b1=0, r1=-Inf,r2=-Inf,b2 = 0),\n",
    "             upper     = c(b0 = Inf, b1=Inf, r1=Inf,r2=Inf,b2 = Inf)\n",
    "    )\n",
    "    print(summary(model.1.sub)$parameters[,\"Estimate\"])\n",
    "}\n",
    "\n",
    "\n",
    "#residual_b\n",
    "#summary(modcalls)"
   ]
  },
  {
   "cell_type": "code",
   "execution_count": 6,
   "metadata": {},
   "outputs": [],
   "source": [
    "#zip3_kadcyla_s1.columns"
   ]
  },
  {
   "cell_type": "markdown",
   "metadata": {},
   "source": [
    "# Ensemble modeling"
   ]
  },
  {
   "cell_type": "code",
   "execution_count": 7,
   "metadata": {},
   "outputs": [],
   "source": [
    "X = zip3_kadcyla_s1[['KADCYLA_CALLS', 'KADCYLA_SP', 'KADCYLA_COPAY_COUNT', 'KADCYLA_EMAILS',\n",
    "'KADCYLA_ALERTS', 'KADCYLA_WEB_VISITS','KADCYLA_CALLS_L1','KADCYLA_SP_L1']]\n",
    "\n",
    "Y = zip3_kadcyla_s1['KADCYLA_SALES_SA']\n",
    "\n",
    "X_train, X_test, y_train, y_test = train_test_split(X, Y,\n",
    "                                                        test_size=0.33,\n",
    "                                                        random_state=42)"
   ]
  },
  {
   "cell_type": "code",
   "execution_count": 8,
   "metadata": {},
   "outputs": [],
   "source": [
    "model1 = RandomForestRegressor(n_estimators=7000,random_state=0,\n",
    "                                   criterion='mse',min_samples_split=45)\n",
    "\n",
    "model2 = GradientBoostingRegressor(n_estimators=5000, learning_rate=1,\n",
    "max_depth=30, random_state=0, min_samples_split=3)\n",
    "\n",
    "model1.fit(X_train, y_train.values.ravel())\n",
    "preds_mod1_y1 = model1.predict(X_test)\n",
    "\n",
    "model2.fit(X_train, y_train.values.ravel())\n",
    "preds_mod2_y1 = model2.predict(X_test)"
   ]
  },
  {
   "cell_type": "code",
   "execution_count": 12,
   "metadata": {},
   "outputs": [
    {
     "data": {
      "text/plain": [
       "0.5564960111113402"
      ]
     },
     "execution_count": 12,
     "metadata": {},
     "output_type": "execute_result"
    }
   ],
   "source": [
    "# R^2 (coefficient of determination) regression score function. Best score is 1.0\n",
    "# http://scikit-learn.org/stable/modules/generated/sklearn.metrics.r2_score.html#sklearn.metrics.r2_score\n",
    "\n",
    "r2_score(y_test,preds_mod1_y1)"
   ]
  },
  {
   "cell_type": "code",
   "execution_count": 13,
   "metadata": {},
   "outputs": [
    {
     "data": {
      "text/plain": [
       "0.1513579905513891"
      ]
     },
     "execution_count": 13,
     "metadata": {},
     "output_type": "execute_result"
    }
   ],
   "source": [
    "r2_score(y_test,preds_mod2_y1)"
   ]
  },
  {
   "cell_type": "code",
   "execution_count": null,
   "metadata": {},
   "outputs": [],
   "source": []
  },
  {
   "cell_type": "code",
   "execution_count": 74,
   "metadata": {},
   "outputs": [],
   "source": [
    "#data model_fits;\n",
    "#\tset DOC.ZIP3_KADCYLA_S3_FINAL;\n",
    "#\tABS_R = abs(C_R);\n",
    "#\tSQ_C_R = C_R**2;\n",
    "#\tif C_R ne 0 OR KADCYLA_SALES_SA ne 0;\n",
    "#run; \n",
    "\n",
    "\n",
    "\n",
    "#Proc sql;\n",
    "#create table DOC.ZIP3_KADCYLA_R_SQ as \n",
    "#select \n",
    "#SUM(ABS_R)/SUM(KADCYLA_SALES_SA) AS KADCYLA_FORECAST_ERROR,\n",
    "#(1-SUM(SQ_C_R)/(VAR(KADCYLA_SALES_SA)*COUNT(*))) AS KADCYLA_R_SQ\n",
    "#from model_fits;"
   ]
  },
  {
   "cell_type": "code",
   "execution_count": null,
   "metadata": {},
   "outputs": [],
   "source": []
  },
  {
   "cell_type": "code",
   "execution_count": null,
   "metadata": {},
   "outputs": [],
   "source": []
  },
  {
   "cell_type": "code",
   "execution_count": null,
   "metadata": {},
   "outputs": [],
   "source": [
    "#sas_output['T0'][9] \n",
    "#all_outputs_df['b0'][9]"
   ]
  },
  {
   "cell_type": "code",
   "execution_count": null,
   "metadata": {},
   "outputs": [],
   "source": [
    "# Compare non-zero zip3 of SAS and Python\n",
    "\n",
    "\n",
    "#MAPE,\n",
    "#Forecasting error"
   ]
  },
  {
   "cell_type": "code",
   "execution_count": null,
   "metadata": {},
   "outputs": [],
   "source": []
  },
  {
   "cell_type": "code",
   "execution_count": null,
   "metadata": {},
   "outputs": [],
   "source": []
  },
  {
   "cell_type": "code",
   "execution_count": null,
   "metadata": {},
   "outputs": [],
   "source": []
  },
  {
   "cell_type": "code",
   "execution_count": 19,
   "metadata": {},
   "outputs": [],
   "source": [
    "#T0\tT1\tT2\tA\tA_R\tT3\tT4\tB\tB_R\tT5\tT6\tT7\tC\tC_R\n",
    "#b0,b1,b2,r1,r2, b3,r3,b4,r4, b5,r5,b6,r6,b7,r7\n",
    "\n"
   ]
  },
  {
   "cell_type": "code",
   "execution_count": null,
   "metadata": {},
   "outputs": [],
   "source": [
    "#sysctl -n hw.ncpu\n",
    "#4 cpus"
   ]
  }
 ],
 "metadata": {
  "kernelspec": {
   "display_name": "Python 3",
   "language": "python",
   "name": "python3"
  },
  "language_info": {
   "codemirror_mode": {
    "name": "ipython",
    "version": 3
   },
   "file_extension": ".py",
   "mimetype": "text/x-python",
   "name": "python",
   "nbconvert_exporter": "python",
   "pygments_lexer": "ipython3",
   "version": "3.6.5"
  }
 },
 "nbformat": 4,
 "nbformat_minor": 2
}
